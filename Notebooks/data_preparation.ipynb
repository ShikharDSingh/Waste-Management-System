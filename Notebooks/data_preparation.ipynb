{
 "cells": [
  {
   "cell_type": "code",
   "execution_count": 1,
   "id": "9a492bfb",
   "metadata": {},
   "outputs": [],
   "source": [
    "import pandas as pd"
   ]
  },
  {
   "cell_type": "code",
   "execution_count": 2,
   "id": "fb189943",
   "metadata": {},
   "outputs": [],
   "source": [
    "df = pd.read_csv('Waste_Management_and_Recycling_India.csv')\n"
   ]
  },
  {
   "cell_type": "code",
   "execution_count": 3,
   "id": "8fae7430",
   "metadata": {},
   "outputs": [
    {
     "data": {
      "text/html": [
       "<div>\n",
       "<style scoped>\n",
       "    .dataframe tbody tr th:only-of-type {\n",
       "        vertical-align: middle;\n",
       "    }\n",
       "\n",
       "    .dataframe tbody tr th {\n",
       "        vertical-align: top;\n",
       "    }\n",
       "\n",
       "    .dataframe thead th {\n",
       "        text-align: right;\n",
       "    }\n",
       "</style>\n",
       "<table border=\"1\" class=\"dataframe\">\n",
       "  <thead>\n",
       "    <tr style=\"text-align: right;\">\n",
       "      <th></th>\n",
       "      <th>City/District</th>\n",
       "      <th>Waste Type</th>\n",
       "      <th>Waste Generated (Tons/Day)</th>\n",
       "      <th>Recycling Rate (%)</th>\n",
       "      <th>Population Density (People/km²)</th>\n",
       "      <th>Municipal Efficiency Score (1-10)</th>\n",
       "      <th>Disposal Method</th>\n",
       "      <th>Cost of Waste Management (₹/Ton)</th>\n",
       "      <th>Awareness Campaigns Count</th>\n",
       "      <th>Landfill Name</th>\n",
       "      <th>Landfill Location (Lat, Long)</th>\n",
       "      <th>Landfill Capacity (Tons)</th>\n",
       "      <th>Year</th>\n",
       "    </tr>\n",
       "  </thead>\n",
       "  <tbody>\n",
       "    <tr>\n",
       "      <th>0</th>\n",
       "      <td>Mumbai</td>\n",
       "      <td>Plastic</td>\n",
       "      <td>6610</td>\n",
       "      <td>68</td>\n",
       "      <td>11191</td>\n",
       "      <td>9</td>\n",
       "      <td>Composting</td>\n",
       "      <td>3056</td>\n",
       "      <td>14</td>\n",
       "      <td>Mumbai Landfill</td>\n",
       "      <td>22.4265, 77.4931</td>\n",
       "      <td>45575</td>\n",
       "      <td>2019</td>\n",
       "    </tr>\n",
       "    <tr>\n",
       "      <th>1</th>\n",
       "      <td>Mumbai</td>\n",
       "      <td>Organic</td>\n",
       "      <td>1181</td>\n",
       "      <td>56</td>\n",
       "      <td>11191</td>\n",
       "      <td>5</td>\n",
       "      <td>Composting</td>\n",
       "      <td>2778</td>\n",
       "      <td>12</td>\n",
       "      <td>Mumbai Landfill</td>\n",
       "      <td>22.4265, 77.4931</td>\n",
       "      <td>45575</td>\n",
       "      <td>2019</td>\n",
       "    </tr>\n",
       "    <tr>\n",
       "      <th>2</th>\n",
       "      <td>Mumbai</td>\n",
       "      <td>E-Waste</td>\n",
       "      <td>8162</td>\n",
       "      <td>53</td>\n",
       "      <td>11191</td>\n",
       "      <td>8</td>\n",
       "      <td>Incineration</td>\n",
       "      <td>3390</td>\n",
       "      <td>13</td>\n",
       "      <td>Mumbai Landfill</td>\n",
       "      <td>22.4265, 77.4931</td>\n",
       "      <td>45575</td>\n",
       "      <td>2019</td>\n",
       "    </tr>\n",
       "    <tr>\n",
       "      <th>3</th>\n",
       "      <td>Mumbai</td>\n",
       "      <td>Construction</td>\n",
       "      <td>8929</td>\n",
       "      <td>56</td>\n",
       "      <td>11191</td>\n",
       "      <td>5</td>\n",
       "      <td>Landfill</td>\n",
       "      <td>1498</td>\n",
       "      <td>14</td>\n",
       "      <td>Mumbai Landfill</td>\n",
       "      <td>22.4265, 77.4931</td>\n",
       "      <td>45575</td>\n",
       "      <td>2019</td>\n",
       "    </tr>\n",
       "    <tr>\n",
       "      <th>4</th>\n",
       "      <td>Mumbai</td>\n",
       "      <td>Hazardous</td>\n",
       "      <td>5032</td>\n",
       "      <td>44</td>\n",
       "      <td>11191</td>\n",
       "      <td>7</td>\n",
       "      <td>Recycling</td>\n",
       "      <td>2221</td>\n",
       "      <td>16</td>\n",
       "      <td>Mumbai Landfill</td>\n",
       "      <td>22.4265, 77.4931</td>\n",
       "      <td>45575</td>\n",
       "      <td>2019</td>\n",
       "    </tr>\n",
       "  </tbody>\n",
       "</table>\n",
       "</div>"
      ],
      "text/plain": [
       "  City/District    Waste Type  Waste Generated (Tons/Day)  Recycling Rate (%)  \\\n",
       "0        Mumbai       Plastic                        6610                  68   \n",
       "1        Mumbai       Organic                        1181                  56   \n",
       "2        Mumbai       E-Waste                        8162                  53   \n",
       "3        Mumbai  Construction                        8929                  56   \n",
       "4        Mumbai     Hazardous                        5032                  44   \n",
       "\n",
       "   Population Density (People/km²)  Municipal Efficiency Score (1-10)  \\\n",
       "0                            11191                                  9   \n",
       "1                            11191                                  5   \n",
       "2                            11191                                  8   \n",
       "3                            11191                                  5   \n",
       "4                            11191                                  7   \n",
       "\n",
       "  Disposal Method  Cost of Waste Management (₹/Ton)  \\\n",
       "0      Composting                              3056   \n",
       "1      Composting                              2778   \n",
       "2    Incineration                              3390   \n",
       "3        Landfill                              1498   \n",
       "4       Recycling                              2221   \n",
       "\n",
       "   Awareness Campaigns Count    Landfill Name Landfill Location (Lat, Long)  \\\n",
       "0                         14  Mumbai Landfill              22.4265, 77.4931   \n",
       "1                         12  Mumbai Landfill              22.4265, 77.4931   \n",
       "2                         13  Mumbai Landfill              22.4265, 77.4931   \n",
       "3                         14  Mumbai Landfill              22.4265, 77.4931   \n",
       "4                         16  Mumbai Landfill              22.4265, 77.4931   \n",
       "\n",
       "   Landfill Capacity (Tons)  Year  \n",
       "0                     45575  2019  \n",
       "1                     45575  2019  \n",
       "2                     45575  2019  \n",
       "3                     45575  2019  \n",
       "4                     45575  2019  "
      ]
     },
     "execution_count": 3,
     "metadata": {},
     "output_type": "execute_result"
    }
   ],
   "source": [
    "df.head()"
   ]
  },
  {
   "cell_type": "code",
   "execution_count": 4,
   "id": "6df523cc",
   "metadata": {},
   "outputs": [
    {
     "data": {
      "text/plain": [
       "(850, 13)"
      ]
     },
     "execution_count": 4,
     "metadata": {},
     "output_type": "execute_result"
    }
   ],
   "source": [
    "df.shape"
   ]
  },
  {
   "cell_type": "code",
   "execution_count": 5,
   "id": "6f3cd335",
   "metadata": {},
   "outputs": [
    {
     "data": {
      "text/plain": [
       "Index(['City/District', 'Waste Type', 'Waste Generated (Tons/Day)',\n",
       "       'Recycling Rate (%)', 'Population Density (People/km²)',\n",
       "       'Municipal Efficiency Score (1-10)', 'Disposal Method',\n",
       "       'Cost of Waste Management (₹/Ton)', 'Awareness Campaigns Count',\n",
       "       'Landfill Name', 'Landfill Location (Lat, Long)',\n",
       "       'Landfill Capacity (Tons)', 'Year'],\n",
       "      dtype='object')"
      ]
     },
     "execution_count": 5,
     "metadata": {},
     "output_type": "execute_result"
    }
   ],
   "source": [
    "df.columns"
   ]
  },
  {
   "cell_type": "code",
   "execution_count": 6,
   "id": "c9e497f5",
   "metadata": {},
   "outputs": [
    {
     "data": {
      "text/plain": [
       "City/District                        object\n",
       "Waste Type                           object\n",
       "Waste Generated (Tons/Day)            int64\n",
       "Recycling Rate (%)                    int64\n",
       "Population Density (People/km²)       int64\n",
       "Municipal Efficiency Score (1-10)     int64\n",
       "Disposal Method                      object\n",
       "Cost of Waste Management (₹/Ton)      int64\n",
       "Awareness Campaigns Count             int64\n",
       "Landfill Name                        object\n",
       "Landfill Location (Lat, Long)        object\n",
       "Landfill Capacity (Tons)              int64\n",
       "Year                                  int64\n",
       "dtype: object"
      ]
     },
     "execution_count": 6,
     "metadata": {},
     "output_type": "execute_result"
    }
   ],
   "source": [
    "df.dtypes"
   ]
  },
  {
   "cell_type": "code",
   "execution_count": 7,
   "id": "86c17c2c",
   "metadata": {},
   "outputs": [
    {
     "data": {
      "text/plain": [
       "array(['Plastic', 'Organic', 'E-Waste', 'Construction', 'Hazardous'],\n",
       "      dtype=object)"
      ]
     },
     "execution_count": 7,
     "metadata": {},
     "output_type": "execute_result"
    }
   ],
   "source": [
    "df['Waste Type'].unique()"
   ]
  },
  {
   "cell_type": "code",
   "execution_count": 8,
   "id": "4b5965d5",
   "metadata": {},
   "outputs": [
    {
     "data": {
      "text/plain": [
       "array(['Composting', 'Incineration', 'Landfill', 'Recycling'],\n",
       "      dtype=object)"
      ]
     },
     "execution_count": 8,
     "metadata": {},
     "output_type": "execute_result"
    }
   ],
   "source": [
    "df['Disposal Method'].unique()"
   ]
  },
  {
   "cell_type": "code",
   "execution_count": 9,
   "id": "d37af7ec",
   "metadata": {},
   "outputs": [],
   "source": [
    "df[['Latitude', 'Longitude']] = df['Landfill Location (Lat, Long)']\\\n",
    "    .str.strip('()')\\\n",
    "    .str.split(',', expand=True)\n",
    "\n",
    "# Converting 'Latitude' and 'Longitude' to numeric values \n",
    "df['Latitude'] = pd.to_numeric(df['Latitude'])\n",
    "df['Longitude'] = pd.to_numeric(df['Longitude'])"
   ]
  },
  {
   "cell_type": "code",
   "execution_count": 10,
   "id": "bf4b6c8e",
   "metadata": {},
   "outputs": [
    {
     "data": {
      "text/plain": [
       "Index(['City/District', 'Waste Type', 'Waste Generated (Tons/Day)',\n",
       "       'Recycling Rate (%)', 'Population Density (People/km²)',\n",
       "       'Municipal Efficiency Score (1-10)', 'Disposal Method',\n",
       "       'Cost of Waste Management (₹/Ton)', 'Awareness Campaigns Count',\n",
       "       'Landfill Name', 'Landfill Location (Lat, Long)',\n",
       "       'Landfill Capacity (Tons)', 'Year', 'Latitude', 'Longitude'],\n",
       "      dtype='object')"
      ]
     },
     "execution_count": 10,
     "metadata": {},
     "output_type": "execute_result"
    }
   ],
   "source": [
    "df.columns"
   ]
  },
  {
   "cell_type": "code",
   "execution_count": 11,
   "id": "1d072c62",
   "metadata": {},
   "outputs": [],
   "source": [
    "df = df.drop(columns=['Landfill Location (Lat, Long)'])"
   ]
  },
  {
   "cell_type": "code",
   "execution_count": 12,
   "id": "f3d622ec",
   "metadata": {},
   "outputs": [
    {
     "data": {
      "text/plain": [
       "Index(['City/District', 'Waste Type', 'Waste Generated (Tons/Day)',\n",
       "       'Recycling Rate (%)', 'Population Density (People/km²)',\n",
       "       'Municipal Efficiency Score (1-10)', 'Disposal Method',\n",
       "       'Cost of Waste Management (₹/Ton)', 'Awareness Campaigns Count',\n",
       "       'Landfill Name', 'Landfill Capacity (Tons)', 'Year', 'Latitude',\n",
       "       'Longitude'],\n",
       "      dtype='object')"
      ]
     },
     "execution_count": 12,
     "metadata": {},
     "output_type": "execute_result"
    }
   ],
   "source": [
    "df.columns"
   ]
  },
  {
   "cell_type": "code",
   "execution_count": 13,
   "id": "8b563d7f",
   "metadata": {},
   "outputs": [
    {
     "data": {
      "text/plain": [
       "City/District                         object\n",
       "Waste Type                            object\n",
       "Waste Generated (Tons/Day)             int64\n",
       "Recycling Rate (%)                     int64\n",
       "Population Density (People/km²)        int64\n",
       "Municipal Efficiency Score (1-10)      int64\n",
       "Disposal Method                       object\n",
       "Cost of Waste Management (₹/Ton)       int64\n",
       "Awareness Campaigns Count              int64\n",
       "Landfill Name                         object\n",
       "Landfill Capacity (Tons)               int64\n",
       "Year                                   int64\n",
       "Latitude                             float64\n",
       "Longitude                            float64\n",
       "dtype: object"
      ]
     },
     "execution_count": 13,
     "metadata": {},
     "output_type": "execute_result"
    }
   ],
   "source": [
    "df.dtypes"
   ]
  },
  {
   "cell_type": "code",
   "execution_count": 15,
   "id": "b1deccb3",
   "metadata": {},
   "outputs": [
    {
     "data": {
      "text/plain": [
       "array(['Mumbai Landfill', 'Delhi Landfill', 'Bengaluru Landfill',\n",
       "       'Chennai Landfill', 'Kolkata Landfill', 'Hyderabad Landfill',\n",
       "       'Pune Landfill', 'Ahmedabad Landfill', 'Jaipur Landfill',\n",
       "       'Lucknow Landfill', 'Surat Landfill', 'Kanpur Landfill',\n",
       "       'Nagpur Landfill', 'Patna Landfill', 'Bhopal Landfill',\n",
       "       'Thiruvananthapuram Landfill', 'Indore Landfill',\n",
       "       'Vadodara Landfill', 'Guwahati Landfill', 'Coimbatore Landfill',\n",
       "       'Ranchi Landfill', 'Amritsar Landfill', 'Jodhpur Landfill',\n",
       "       'Varanasi Landfill', 'Ludhiana Landfill', 'Agra Landfill',\n",
       "       'Meerut Landfill', 'Nashik Landfill', 'Rajkot Landfill',\n",
       "       'Madurai Landfill', 'Jabalpur Landfill', 'Allahabad Landfill',\n",
       "       'Visakhapatnam Landfill', 'Gwalior Landfill'], dtype=object)"
      ]
     },
     "execution_count": 15,
     "metadata": {},
     "output_type": "execute_result"
    }
   ],
   "source": [
    "df['Landfill Name'].unique()"
   ]
  },
  {
   "cell_type": "code",
   "execution_count": 16,
   "id": "e1924f43",
   "metadata": {},
   "outputs": [
    {
     "data": {
      "text/plain": [
       "array(['Mumbai', 'Delhi', 'Bengaluru', 'Chennai', 'Kolkata', 'Hyderabad',\n",
       "       'Pune', 'Ahmedabad', 'Jaipur', 'Lucknow', 'Surat', 'Kanpur',\n",
       "       'Nagpur', 'Patna', 'Bhopal', 'Thiruvananthapuram', 'Indore',\n",
       "       'Vadodara', 'Guwahati', 'Coimbatore', 'Ranchi', 'Amritsar',\n",
       "       'Jodhpur', 'Varanasi', 'Ludhiana', 'Agra', 'Meerut', 'Nashik',\n",
       "       'Rajkot', 'Madurai', 'Jabalpur', 'Allahabad', 'Visakhapatnam',\n",
       "       'Gwalior'], dtype=object)"
      ]
     },
     "execution_count": 16,
     "metadata": {},
     "output_type": "execute_result"
    }
   ],
   "source": [
    "df['City/District'].unique()"
   ]
  },
  {
   "cell_type": "code",
   "execution_count": null,
   "id": "5751d95f",
   "metadata": {},
   "outputs": [],
   "source": [
    "# Save the cleaned data to CSV\n",
    "df.to_csv('cleaned_data.csv', index=False)"
   ]
  }
 ],
 "metadata": {
  "kernelspec": {
   "display_name": "Python 3",
   "language": "python",
   "name": "python3"
  },
  "language_info": {
   "codemirror_mode": {
    "name": "ipython",
    "version": 3
   },
   "file_extension": ".py",
   "mimetype": "text/x-python",
   "name": "python",
   "nbconvert_exporter": "python",
   "pygments_lexer": "ipython3",
   "version": "3.12.3"
  }
 },
 "nbformat": 4,
 "nbformat_minor": 5
}
